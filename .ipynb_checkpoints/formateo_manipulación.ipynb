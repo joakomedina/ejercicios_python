{
 "cells": [
  {
   "cell_type": "code",
   "execution_count": 5,
   "id": "5f4af237-1583-4ba8-9701-bf1b15e04670",
   "metadata": {},
   "outputs": [],
   "source": [
    "import pandas as pd"
   ]
  },
  {
   "cell_type": "code",
   "execution_count": 1,
   "id": "3c9db310-27c2-4ac4-b656-81ceedb3c2cb",
   "metadata": {},
   "outputs": [],
   "source": [
    "import numpy as np\n",
    "import matplotlib\n",
    "import matplotlib.pyplot as plt"
   ]
  },
  {
   "cell_type": "code",
   "execution_count": 6,
   "id": "bc89095e-73cc-445d-bfaf-a173bca05b91",
   "metadata": {},
   "outputs": [],
   "source": [
    "df_customer=pd.read_csv(\"C:\\\\Users\\\\Joako\\\\Desktop\\\\AnalisisDatosEjercicios\\\\datos\\\\Datos\\\\Customer_service_survey_responses.csv\")\n"
   ]
  },
  {
   "cell_type": "code",
   "execution_count": 8,
   "id": "7b717f1c-62ad-4b8e-9df2-0e90cd12340e",
   "metadata": {},
   "outputs": [],
   "source": [
    "df_country=pd.read_csv(\"C:\\\\Users\\\\Joako\\\\Desktop\\\\AnalisisDatosEjercicios\\\\datos\\\\Datos\\\\Country_of_response.csv\")"
   ]
  },
  {
   "cell_type": "code",
   "execution_count": 9,
   "id": "8fc4c9f3-da6b-4014-906a-f2f9493e5184",
   "metadata": {},
   "outputs": [
    {
     "data": {
      "text/html": [
       "<div>\n",
       "<style scoped>\n",
       "    .dataframe tbody tr th:only-of-type {\n",
       "        vertical-align: middle;\n",
       "    }\n",
       "\n",
       "    .dataframe tbody tr th {\n",
       "        vertical-align: top;\n",
       "    }\n",
       "\n",
       "    .dataframe thead th {\n",
       "        text-align: right;\n",
       "    }\n",
       "</style>\n",
       "<table border=\"1\" class=\"dataframe\">\n",
       "  <thead>\n",
       "    <tr style=\"text-align: right;\">\n",
       "      <th></th>\n",
       "      <th>Username</th>\n",
       "      <th>Last name</th>\n",
       "      <th>First name</th>\n",
       "      <th>Date of download</th>\n",
       "      <th>Software package</th>\n",
       "    </tr>\n",
       "  </thead>\n",
       "  <tbody>\n",
       "    <tr>\n",
       "      <th>0</th>\n",
       "      <td>dittoafar45</td>\n",
       "      <td>Andersen</td>\n",
       "      <td>Leocadia</td>\n",
       "      <td>3/4/2016</td>\n",
       "      <td>Basic</td>\n",
       "    </tr>\n",
       "    <tr>\n",
       "      <th>1</th>\n",
       "      <td>prowlingglistering253</td>\n",
       "      <td>Lucero</td>\n",
       "      <td>Chad</td>\n",
       "      <td>3/7/2016</td>\n",
       "      <td>Premium</td>\n",
       "    </tr>\n",
       "    <tr>\n",
       "      <th>2</th>\n",
       "      <td>expectant2deranged</td>\n",
       "      <td>Randall</td>\n",
       "      <td>Stone</td>\n",
       "      <td>4/6/2016</td>\n",
       "      <td>Plus</td>\n",
       "    </tr>\n",
       "    <tr>\n",
       "      <th>3</th>\n",
       "      <td>sulphateplummer</td>\n",
       "      <td>Braun</td>\n",
       "      <td>Emelia</td>\n",
       "      <td>4/8/2016</td>\n",
       "      <td>Basic</td>\n",
       "    </tr>\n",
       "    <tr>\n",
       "      <th>4</th>\n",
       "      <td>woatok</td>\n",
       "      <td>Velez</td>\n",
       "      <td>Ridley</td>\n",
       "      <td>6/24/2016</td>\n",
       "      <td>Basic</td>\n",
       "    </tr>\n",
       "  </tbody>\n",
       "</table>\n",
       "</div>"
      ],
      "text/plain": [
       "                Username Last name First name Date of download   \n",
       "0            dittoafar45  Andersen   Leocadia         3/4/2016  \\\n",
       "1  prowlingglistering253    Lucero       Chad         3/7/2016   \n",
       "2     expectant2deranged   Randall      Stone         4/6/2016   \n",
       "3        sulphateplummer     Braun     Emelia         4/8/2016   \n",
       "4                 woatok     Velez     Ridley        6/24/2016   \n",
       "\n",
       "  Software package  \n",
       "0            Basic  \n",
       "1          Premium  \n",
       "2             Plus  \n",
       "3            Basic  \n",
       "4            Basic  "
      ]
     },
     "execution_count": 9,
     "metadata": {},
     "output_type": "execute_result"
    }
   ],
   "source": [
    "# Ver df cabecera 5 primeras observaciones\n",
    "df_customer.head()"
   ]
  },
  {
   "cell_type": "code",
   "execution_count": 10,
   "id": "0eee53dd-5cc3-4776-aad3-4328206b4366",
   "metadata": {},
   "outputs": [
    {
     "data": {
      "text/html": [
       "<div>\n",
       "<style scoped>\n",
       "    .dataframe tbody tr th:only-of-type {\n",
       "        vertical-align: middle;\n",
       "    }\n",
       "\n",
       "    .dataframe tbody tr th {\n",
       "        vertical-align: top;\n",
       "    }\n",
       "\n",
       "    .dataframe thead th {\n",
       "        text-align: right;\n",
       "    }\n",
       "</style>\n",
       "<table border=\"1\" class=\"dataframe\">\n",
       "  <thead>\n",
       "    <tr style=\"text-align: right;\">\n",
       "      <th></th>\n",
       "      <th>Country</th>\n",
       "      <th>Score</th>\n",
       "      <th>Username</th>\n",
       "      <th>Last name</th>\n",
       "      <th>First name</th>\n",
       "      <th>Date of download</th>\n",
       "      <th>Software package</th>\n",
       "    </tr>\n",
       "  </thead>\n",
       "  <tbody>\n",
       "    <tr>\n",
       "      <th>0</th>\n",
       "      <td>France</td>\n",
       "      <td>3</td>\n",
       "      <td>dittoafar45</td>\n",
       "      <td>Andersen</td>\n",
       "      <td>Leocadia</td>\n",
       "      <td>3/4/2016</td>\n",
       "      <td>Basic</td>\n",
       "    </tr>\n",
       "    <tr>\n",
       "      <th>1</th>\n",
       "      <td>France</td>\n",
       "      <td>5</td>\n",
       "      <td>prowlingglistering253</td>\n",
       "      <td>Lucero</td>\n",
       "      <td>Chad</td>\n",
       "      <td>3/7/2016</td>\n",
       "      <td>Premium</td>\n",
       "    </tr>\n",
       "    <tr>\n",
       "      <th>2</th>\n",
       "      <td>Belgium</td>\n",
       "      <td>4</td>\n",
       "      <td>expectant2deranged</td>\n",
       "      <td>Randall</td>\n",
       "      <td>Stone</td>\n",
       "      <td>4/6/2016</td>\n",
       "      <td>Plus</td>\n",
       "    </tr>\n",
       "    <tr>\n",
       "      <th>3</th>\n",
       "      <td>Germany</td>\n",
       "      <td>9</td>\n",
       "      <td>sulphateplummer</td>\n",
       "      <td>Braun</td>\n",
       "      <td>Emelia</td>\n",
       "      <td>4/8/2016</td>\n",
       "      <td>Basic</td>\n",
       "    </tr>\n",
       "    <tr>\n",
       "      <th>4</th>\n",
       "      <td>Portugal</td>\n",
       "      <td>7</td>\n",
       "      <td>woatok</td>\n",
       "      <td>Velez</td>\n",
       "      <td>Ridley</td>\n",
       "      <td>6/24/2016</td>\n",
       "      <td>Basic</td>\n",
       "    </tr>\n",
       "  </tbody>\n",
       "</table>\n",
       "</div>"
      ],
      "text/plain": [
       "    Country  Score               Username Last name First name   \n",
       "0    France      3            dittoafar45  Andersen   Leocadia  \\\n",
       "1    France      5  prowlingglistering253    Lucero       Chad   \n",
       "2   Belgium      4     expectant2deranged   Randall      Stone   \n",
       "3   Germany      9        sulphateplummer     Braun     Emelia   \n",
       "4  Portugal      7                 woatok     Velez     Ridley   \n",
       "\n",
       "  Date of download Software package  \n",
       "0         3/4/2016            Basic  \n",
       "1         3/7/2016          Premium  \n",
       "2         4/6/2016             Plus  \n",
       "3         4/8/2016            Basic  \n",
       "4        6/24/2016            Basic  "
      ]
     },
     "execution_count": 10,
     "metadata": {},
     "output_type": "execute_result"
    }
   ],
   "source": [
    "df_country.head()"
   ]
  },
  {
   "cell_type": "code",
   "execution_count": 11,
   "id": "84e1f39d-2f07-4eba-acb0-e67ebce58a07",
   "metadata": {},
   "outputs": [
    {
     "name": "stdout",
     "output_type": "stream",
     "text": [
      "Username            object\n",
      "Last name           object\n",
      "First name          object\n",
      "Date of download    object\n",
      "Software package    object\n",
      "dtype: object\n"
     ]
    }
   ],
   "source": [
    "# Ver tipos de datos columnas\n",
    "print(df_customer.dtypes)"
   ]
  },
  {
   "cell_type": "code",
   "execution_count": 12,
   "id": "bb366150-a97f-4859-a445-b9daa7797426",
   "metadata": {},
   "outputs": [
    {
     "name": "stdout",
     "output_type": "stream",
     "text": [
      "Country             object\n",
      "Score                int64\n",
      "Username            object\n",
      "Last name           object\n",
      "First name          object\n",
      "Date of download    object\n",
      "Software package    object\n",
      "dtype: object\n"
     ]
    }
   ],
   "source": [
    "# Ver tipos de datos columnas df_country\n",
    "print(df_country.dtypes)"
   ]
  },
  {
   "cell_type": "code",
   "execution_count": 13,
   "id": "99e827b8-b4b3-4031-a379-58c16b981b54",
   "metadata": {},
   "outputs": [],
   "source": [
    "# Quitar espacios nombres de columnas y sustituir por _\n",
    "df_customer.columns = [col.replace(' ','_') for col in df_customer.columns]"
   ]
  },
  {
   "cell_type": "code",
   "execution_count": 14,
   "id": "30658483-9615-421a-9803-593de51c3bf1",
   "metadata": {},
   "outputs": [],
   "source": [
    "# Quitar espacios nombres de columnas y sustituir por _ df_country\n",
    "df_country.columns = [col.replace(' ','_') for col in df_country.columns]"
   ]
  },
  {
   "cell_type": "code",
   "execution_count": 15,
   "id": "8aea2fa0-e28b-4417-9991-e7a827031457",
   "metadata": {},
   "outputs": [],
   "source": [
    "# hacer los nombres minúsculas\n",
    "df_customer.columns = df_customer.columns.str.lower()"
   ]
  },
  {
   "cell_type": "code",
   "execution_count": 16,
   "id": "0750fedb-9328-41e1-8fb7-0b1074a2f1f2",
   "metadata": {},
   "outputs": [],
   "source": [
    "# hacer los nombres minúsculas df_country\n",
    "df_country.columns = df_country.columns.str.lower()"
   ]
  },
  {
   "cell_type": "code",
   "execution_count": 17,
   "id": "0c30cbe5-559f-44b9-97f0-b9dcfa82a177",
   "metadata": {},
   "outputs": [],
   "source": [
    "# Convertir a formato datetime la columna date_of_download '%m/%d/%Y'\n",
    "df_customer['date_of_download'] = pd.to_datetime(df_customer['date_of_download'], format='%m/%d/%Y')"
   ]
  },
  {
   "cell_type": "code",
   "execution_count": 18,
   "id": "d6e6b833-ef2a-4590-878f-ab6066c61c7a",
   "metadata": {},
   "outputs": [],
   "source": [
    "# Convertir a formato datetime la columna date_of_download '%m/%d/%Y' df_country\n",
    "df_country['date_of_download'] = pd.to_datetime(df_country['date_of_download'], format='%m/%d/%Y')"
   ]
  },
  {
   "cell_type": "code",
   "execution_count": 19,
   "id": "30464b8c-6db9-43fb-ace8-f4bb32d93823",
   "metadata": {},
   "outputs": [
    {
     "name": "stdout",
     "output_type": "stream",
     "text": [
      "106    07/17/2017\n",
      "72     06/04/2020\n",
      "39     02/20/2019\n",
      "130    08/18/2017\n",
      "11     02/08/2018\n",
      "Name: date_of_download, dtype: object\n"
     ]
    }
   ],
   "source": [
    "# Una manera de ver las fechas en un formato diferente de cómo lo imprime por defecto python\n",
    "print(df_customer['date_of_download'].sample(5).dt.strftime('%m/%d/%Y'))"
   ]
  },
  {
   "cell_type": "code",
   "execution_count": 20,
   "id": "046c443a-43a3-4a96-bead-5fec8bb90eaf",
   "metadata": {},
   "outputs": [
    {
     "data": {
      "text/html": [
       "<div>\n",
       "<style scoped>\n",
       "    .dataframe tbody tr th:only-of-type {\n",
       "        vertical-align: middle;\n",
       "    }\n",
       "\n",
       "    .dataframe tbody tr th {\n",
       "        vertical-align: top;\n",
       "    }\n",
       "\n",
       "    .dataframe thead th {\n",
       "        text-align: right;\n",
       "    }\n",
       "</style>\n",
       "<table border=\"1\" class=\"dataframe\">\n",
       "  <thead>\n",
       "    <tr style=\"text-align: right;\">\n",
       "      <th></th>\n",
       "      <th>username</th>\n",
       "      <th>last_name</th>\n",
       "      <th>first_name</th>\n",
       "      <th>date_of_download</th>\n",
       "      <th>software_package</th>\n",
       "    </tr>\n",
       "  </thead>\n",
       "  <tbody>\n",
       "    <tr>\n",
       "      <th>107</th>\n",
       "      <td>capsulegrain787</td>\n",
       "      <td>Moran</td>\n",
       "      <td>Kiki</td>\n",
       "      <td>2017-10-12</td>\n",
       "      <td>Basic</td>\n",
       "    </tr>\n",
       "    <tr>\n",
       "      <th>142</th>\n",
       "      <td>twiddlingpickaxe</td>\n",
       "      <td>Nichols</td>\n",
       "      <td>Jaylah</td>\n",
       "      <td>2017-07-17</td>\n",
       "      <td>Plus</td>\n",
       "    </tr>\n",
       "    <tr>\n",
       "      <th>73</th>\n",
       "      <td>cassietooden</td>\n",
       "      <td>Baldwin</td>\n",
       "      <td>Freda</td>\n",
       "      <td>2020-07-09</td>\n",
       "      <td>Premium</td>\n",
       "    </tr>\n",
       "    <tr>\n",
       "      <th>53</th>\n",
       "      <td>chemicalspecan</td>\n",
       "      <td>Barry</td>\n",
       "      <td>Katey</td>\n",
       "      <td>2016-07-13</td>\n",
       "      <td>Basic</td>\n",
       "    </tr>\n",
       "    <tr>\n",
       "      <th>52</th>\n",
       "      <td>daffycork123123</td>\n",
       "      <td>Molina</td>\n",
       "      <td>Daley</td>\n",
       "      <td>2016-02-17</td>\n",
       "      <td>Basic</td>\n",
       "    </tr>\n",
       "  </tbody>\n",
       "</table>\n",
       "</div>"
      ],
      "text/plain": [
       "             username last_name first_name date_of_download software_package\n",
       "107   capsulegrain787     Moran       Kiki       2017-10-12            Basic\n",
       "142  twiddlingpickaxe   Nichols     Jaylah       2017-07-17             Plus\n",
       "73       cassietooden   Baldwin      Freda       2020-07-09          Premium\n",
       "53     chemicalspecan     Barry      Katey       2016-07-13            Basic\n",
       "52    daffycork123123    Molina      Daley       2016-02-17            Basic"
      ]
     },
     "execution_count": 20,
     "metadata": {},
     "output_type": "execute_result"
    }
   ],
   "source": [
    "\n",
    "df_customer.sample(5)"
   ]
  },
  {
   "cell_type": "code",
   "execution_count": 21,
   "id": "369740fe-002d-4ac7-bab9-cb460444f3ed",
   "metadata": {},
   "outputs": [
    {
     "data": {
      "text/html": [
       "<div>\n",
       "<style scoped>\n",
       "    .dataframe tbody tr th:only-of-type {\n",
       "        vertical-align: middle;\n",
       "    }\n",
       "\n",
       "    .dataframe tbody tr th {\n",
       "        vertical-align: top;\n",
       "    }\n",
       "\n",
       "    .dataframe thead th {\n",
       "        text-align: right;\n",
       "    }\n",
       "</style>\n",
       "<table border=\"1\" class=\"dataframe\">\n",
       "  <thead>\n",
       "    <tr style=\"text-align: right;\">\n",
       "      <th></th>\n",
       "      <th>country</th>\n",
       "      <th>score</th>\n",
       "      <th>username</th>\n",
       "      <th>last_name</th>\n",
       "      <th>first_name</th>\n",
       "      <th>date_of_download</th>\n",
       "      <th>software_package</th>\n",
       "    </tr>\n",
       "  </thead>\n",
       "  <tbody>\n",
       "    <tr>\n",
       "      <th>130</th>\n",
       "      <td>Canada</td>\n",
       "      <td>7</td>\n",
       "      <td>chariotmillie</td>\n",
       "      <td>Cordova</td>\n",
       "      <td>Reynold</td>\n",
       "      <td>2017-08-18</td>\n",
       "      <td>Basic</td>\n",
       "    </tr>\n",
       "    <tr>\n",
       "      <th>69</th>\n",
       "      <td>United States of America</td>\n",
       "      <td>8</td>\n",
       "      <td>bodacioustaekwondo</td>\n",
       "      <td>Robbins</td>\n",
       "      <td>Foster</td>\n",
       "      <td>2019-11-19</td>\n",
       "      <td>Premium</td>\n",
       "    </tr>\n",
       "    <tr>\n",
       "      <th>42</th>\n",
       "      <td>France</td>\n",
       "      <td>4</td>\n",
       "      <td>putumami</td>\n",
       "      <td>Mcbride</td>\n",
       "      <td>Maggie</td>\n",
       "      <td>2019-06-11</td>\n",
       "      <td>Basic</td>\n",
       "    </tr>\n",
       "    <tr>\n",
       "      <th>143</th>\n",
       "      <td>Iceland</td>\n",
       "      <td>8</td>\n",
       "      <td>joltcobbey</td>\n",
       "      <td>Townsend</td>\n",
       "      <td>Retha</td>\n",
       "      <td>2017-10-12</td>\n",
       "      <td>Plus</td>\n",
       "    </tr>\n",
       "    <tr>\n",
       "      <th>100</th>\n",
       "      <td>Indonesia</td>\n",
       "      <td>7</td>\n",
       "      <td>arcounmixed</td>\n",
       "      <td>Todd</td>\n",
       "      <td>Maureen</td>\n",
       "      <td>2016-02-17</td>\n",
       "      <td>Premium</td>\n",
       "    </tr>\n",
       "  </tbody>\n",
       "</table>\n",
       "</div>"
      ],
      "text/plain": [
       "                      country  score            username last_name first_name   \n",
       "130                    Canada      7       chariotmillie   Cordova    Reynold  \\\n",
       "69   United States of America      8  bodacioustaekwondo   Robbins     Foster   \n",
       "42                     France      4            putumami   Mcbride     Maggie   \n",
       "143                   Iceland      8          joltcobbey  Townsend      Retha   \n",
       "100                 Indonesia      7         arcounmixed      Todd    Maureen   \n",
       "\n",
       "    date_of_download software_package  \n",
       "130       2017-08-18            Basic  \n",
       "69        2019-11-19          Premium  \n",
       "42        2019-06-11            Basic  \n",
       "143       2017-10-12             Plus  \n",
       "100       2016-02-17          Premium  "
      ]
     },
     "execution_count": 21,
     "metadata": {},
     "output_type": "execute_result"
    }
   ],
   "source": [
    "df_country.sample(5)"
   ]
  },
  {
   "cell_type": "code",
   "execution_count": 22,
   "id": "51c50945-eb7c-4372-adce-b1dad6bd5523",
   "metadata": {
    "collapsed": true,
    "jupyter": {
     "outputs_hidden": true
    },
    "tags": []
   },
   "outputs": [
    {
     "data": {
      "text/plain": [
       "username\n",
       "dittoafar45         1\n",
       "runningfreckles     1\n",
       "errorking           1\n",
       "fiddlecheesey       1\n",
       "rootsmarengo        1\n",
       "                   ..\n",
       "girlagent           1\n",
       "cumbrianchall       1\n",
       "clockcrib           1\n",
       "daffycork123123     1\n",
       "breakfastservant    1\n",
       "Name: count, Length: 147, dtype: int64"
      ]
     },
     "execution_count": 22,
     "metadata": {},
     "output_type": "execute_result"
    }
   ],
   "source": [
    "# Una manera de verificar que no hallan repetidos en la columna username\n",
    "df_customer.username.value_counts()"
   ]
  },
  {
   "cell_type": "code",
   "execution_count": 23,
   "id": "72ed91ee-6af7-487f-981b-49fee6de5052",
   "metadata": {
    "collapsed": true,
    "jupyter": {
     "outputs_hidden": true
    },
    "tags": []
   },
   "outputs": [
    {
     "data": {
      "text/plain": [
       "username\n",
       "dittoafar45         1\n",
       "runningfreckles     1\n",
       "errorking           1\n",
       "fiddlecheesey       1\n",
       "rootsmarengo        1\n",
       "                   ..\n",
       "girlagent           1\n",
       "cumbrianchall       1\n",
       "clockcrib           1\n",
       "daffycork123123     1\n",
       "breakfastservant    1\n",
       "Name: count, Length: 147, dtype: int64"
      ]
     },
     "execution_count": 23,
     "metadata": {},
     "output_type": "execute_result"
    }
   ],
   "source": [
    "# Una manera de verificar que no hallan repetidos en la columna username df_country\n",
    "df_country.username.value_counts()"
   ]
  },
  {
   "cell_type": "markdown",
   "id": "262082d3-dca0-49fb-8e1b-f7217577b80e",
   "metadata": {},
   "source": [
    "### Observaciones\n",
    "El df_country en la fila 147 los datos son NaN NaT.\n",
    "1. Verifico en df_customer. No tiene campos vacíos\n",
    "2. Verifico en df_country. Solo las filas de las columnas country y score estan completas\n",
    "Por lo cual hare un merge quedandome con las dos columnas validas de df_country"
   ]
  },
  {
   "cell_type": "code",
   "execution_count": 24,
   "id": "2b0b4706-3262-488c-9360-bb71320c3603",
   "metadata": {
    "collapsed": true,
    "jupyter": {
     "outputs_hidden": true
    },
    "tags": []
   },
   "outputs": [
    {
     "name": "stdout",
     "output_type": "stream",
     "text": [
      "Empty DataFrame\n",
      "Columns: [username, last_name, first_name, date_of_download, software_package]\n",
      "Index: []\n"
     ]
    }
   ],
   "source": [
    "rows_with_na  = df_customer.isna().any(axis=1)\n",
    "print(df_customer[rows_with_na ])"
   ]
  },
  {
   "cell_type": "code",
   "execution_count": 25,
   "id": "08c68cbb-b495-4d38-84f1-687333cd1dd5",
   "metadata": {
    "collapsed": true,
    "jupyter": {
     "outputs_hidden": true
    },
    "tags": []
   },
   "outputs": [
    {
     "name": "stdout",
     "output_type": "stream",
     "text": [
      "username            0\n",
      "last_name           0\n",
      "first_name          0\n",
      "date_of_download    0\n",
      "software_package    0\n",
      "dtype: int64\n"
     ]
    }
   ],
   "source": [
    "print(df_customer.isna().sum())"
   ]
  },
  {
   "cell_type": "code",
   "execution_count": 26,
   "id": "58f16400-81a4-431d-9a91-927339b91347",
   "metadata": {
    "collapsed": true,
    "jupyter": {
     "outputs_hidden": true
    },
    "tags": []
   },
   "outputs": [
    {
     "name": "stdout",
     "output_type": "stream",
     "text": [
      "                      country  score username last_name first_name   \n",
      "147  United States of America      8      NaN       NaN        NaN  \\\n",
      "148                    Canada      4      NaN       NaN        NaN   \n",
      "149            United Kingdom      2      NaN       NaN        NaN   \n",
      "150                 Argentina      7      NaN       NaN        NaN   \n",
      "151                     Chile      5      NaN       NaN        NaN   \n",
      "152                    Brazil      4      NaN       NaN        NaN   \n",
      "153                    Mexico      9      NaN       NaN        NaN   \n",
      "154                      Peru      7      NaN       NaN        NaN   \n",
      "155                  Colombia      8      NaN       NaN        NaN   \n",
      "156                   Bermuda      4      NaN       NaN        NaN   \n",
      "157                   Bahamas      2      NaN       NaN        NaN   \n",
      "158                     Japan      7      NaN       NaN        NaN   \n",
      "159               South Korea      5      NaN       NaN        NaN   \n",
      "160                    Canada      4      NaN       NaN        NaN   \n",
      "161                     China      9      NaN       NaN        NaN   \n",
      "162                  Malaysia      7      NaN       NaN        NaN   \n",
      "163                  Thailand      8      NaN       NaN        NaN   \n",
      "164                 Indonesia      4      NaN       NaN        NaN   \n",
      "165                Bangladesh      2      NaN       NaN        NaN   \n",
      "166                  Mongolia      2      NaN       NaN        NaN   \n",
      "\n",
      "    date_of_download software_package  \n",
      "147              NaT              NaN  \n",
      "148              NaT              NaN  \n",
      "149              NaT              NaN  \n",
      "150              NaT              NaN  \n",
      "151              NaT              NaN  \n",
      "152              NaT              NaN  \n",
      "153              NaT              NaN  \n",
      "154              NaT              NaN  \n",
      "155              NaT              NaN  \n",
      "156              NaT              NaN  \n",
      "157              NaT              NaN  \n",
      "158              NaT              NaN  \n",
      "159              NaT              NaN  \n",
      "160              NaT              NaN  \n",
      "161              NaT              NaN  \n",
      "162              NaT              NaN  \n",
      "163              NaT              NaN  \n",
      "164              NaT              NaN  \n",
      "165              NaT              NaN  \n",
      "166              NaT              NaN  \n"
     ]
    }
   ],
   "source": [
    "filas_na  = df_country.isna().any(axis=1)\n",
    "print(df_country[filas_na ])"
   ]
  },
  {
   "cell_type": "code",
   "execution_count": 27,
   "id": "8e99b27c-aac5-4e66-9c5d-95ea0ccfe59a",
   "metadata": {
    "collapsed": true,
    "jupyter": {
     "outputs_hidden": true
    },
    "tags": []
   },
   "outputs": [
    {
     "data": {
      "text/plain": [
       "0                dittoafar45\n",
       "1      prowlingglistering253\n",
       "2         expectant2deranged\n",
       "3            sulphateplummer\n",
       "4                     woatok\n",
       "               ...          \n",
       "162                      NaN\n",
       "163                      NaN\n",
       "164                      NaN\n",
       "165                      NaN\n",
       "166                      NaN\n",
       "Name: username, Length: 167, dtype: object"
      ]
     },
     "execution_count": 27,
     "metadata": {},
     "output_type": "execute_result"
    }
   ],
   "source": [
    "# Completar los campos faltantes de la columna username de df_country con los de df_customer para luego hacer un merge\n",
    "# En inplace = False es para que cree una copia con los datos faltantes que almacena en memoria para hacer el merge y asi no se modifique el df original\n",
    "df_country['username'].fillna(df_customer['username'], inplace=False)\n"
   ]
  },
  {
   "cell_type": "code",
   "execution_count": 28,
   "id": "dfa9b744-4be4-46cb-9876-dbf4661356cd",
   "metadata": {
    "tags": []
   },
   "outputs": [],
   "source": [
    "# Merge de los dos dataframe, quedandome con las columnas de df_customer y agregando country y score de df_country\n",
    "# merge_df = df_customer[['username', 'last_name', 'first_name', 'date_of_download', 'software_package']].merge(df_country[['country', 'score']], on='username')\n",
    "merge_df = df_customer[['username', 'last_name', 'first_name', 'date_of_download', 'software_package']].merge(df_country[['username', 'country', 'score']], on='username')"
   ]
  },
  {
   "cell_type": "code",
   "execution_count": 29,
   "id": "ec2861bd-6143-4384-8d88-1a2cc637294a",
   "metadata": {},
   "outputs": [
    {
     "data": {
      "text/html": [
       "<div>\n",
       "<style scoped>\n",
       "    .dataframe tbody tr th:only-of-type {\n",
       "        vertical-align: middle;\n",
       "    }\n",
       "\n",
       "    .dataframe tbody tr th {\n",
       "        vertical-align: top;\n",
       "    }\n",
       "\n",
       "    .dataframe thead th {\n",
       "        text-align: right;\n",
       "    }\n",
       "</style>\n",
       "<table border=\"1\" class=\"dataframe\">\n",
       "  <thead>\n",
       "    <tr style=\"text-align: right;\">\n",
       "      <th></th>\n",
       "      <th>username</th>\n",
       "      <th>last_name</th>\n",
       "      <th>first_name</th>\n",
       "      <th>date_of_download</th>\n",
       "      <th>software_package</th>\n",
       "      <th>country</th>\n",
       "      <th>score</th>\n",
       "    </tr>\n",
       "  </thead>\n",
       "  <tbody>\n",
       "    <tr>\n",
       "      <th>16</th>\n",
       "      <td>subtextethnic</td>\n",
       "      <td>Dixon</td>\n",
       "      <td>Kit</td>\n",
       "      <td>2019-08-14</td>\n",
       "      <td>Plus</td>\n",
       "      <td>Belgium</td>\n",
       "      <td>7</td>\n",
       "    </tr>\n",
       "    <tr>\n",
       "      <th>140</th>\n",
       "      <td>brogaiggoal</td>\n",
       "      <td>Bryan</td>\n",
       "      <td>Lake</td>\n",
       "      <td>2016-10-06</td>\n",
       "      <td>Basic</td>\n",
       "      <td>Portugal</td>\n",
       "      <td>4</td>\n",
       "    </tr>\n",
       "    <tr>\n",
       "      <th>54</th>\n",
       "      <td>thornpandemic</td>\n",
       "      <td>Mckay</td>\n",
       "      <td>Kenton</td>\n",
       "      <td>2016-09-02</td>\n",
       "      <td>Premium</td>\n",
       "      <td>Sweden</td>\n",
       "      <td>4</td>\n",
       "    </tr>\n",
       "    <tr>\n",
       "      <th>94</th>\n",
       "      <td>errorking</td>\n",
       "      <td>Hinton</td>\n",
       "      <td>Shepherd</td>\n",
       "      <td>2019-12-19</td>\n",
       "      <td>Premium</td>\n",
       "      <td>Japan</td>\n",
       "      <td>4</td>\n",
       "    </tr>\n",
       "    <tr>\n",
       "      <th>46</th>\n",
       "      <td>jackanapesfishing</td>\n",
       "      <td>Riggs</td>\n",
       "      <td>Osmond</td>\n",
       "      <td>2020-01-13</td>\n",
       "      <td>Plus</td>\n",
       "      <td>Portugal</td>\n",
       "      <td>4</td>\n",
       "    </tr>\n",
       "  </tbody>\n",
       "</table>\n",
       "</div>"
      ],
      "text/plain": [
       "              username last_name first_name date_of_download software_package   \n",
       "16       subtextethnic     Dixon        Kit       2019-08-14             Plus  \\\n",
       "140        brogaiggoal     Bryan       Lake       2016-10-06            Basic   \n",
       "54       thornpandemic     Mckay     Kenton       2016-09-02          Premium   \n",
       "94           errorking    Hinton   Shepherd       2019-12-19          Premium   \n",
       "46   jackanapesfishing     Riggs     Osmond       2020-01-13             Plus   \n",
       "\n",
       "      country  score  \n",
       "16    Belgium      7  \n",
       "140  Portugal      4  \n",
       "54     Sweden      4  \n",
       "94      Japan      4  \n",
       "46   Portugal      4  "
      ]
     },
     "execution_count": 29,
     "metadata": {},
     "output_type": "execute_result"
    }
   ],
   "source": [
    "merge_df.sample(5)"
   ]
  },
  {
   "cell_type": "code",
   "execution_count": 30,
   "id": "c0198570-396b-4693-91db-ea6b73e4e5d5",
   "metadata": {
    "collapsed": true,
    "jupyter": {
     "outputs_hidden": true
    },
    "tags": []
   },
   "outputs": [
    {
     "name": "stdout",
     "output_type": "stream",
     "text": [
      "username                    object\n",
      "last_name                   object\n",
      "first_name                  object\n",
      "date_of_download    datetime64[ns]\n",
      "software_package            object\n",
      "country                     object\n",
      "score                        int64\n",
      "dtype: object\n"
     ]
    }
   ],
   "source": [
    "print(merge_df.dtypes)"
   ]
  },
  {
   "cell_type": "code",
   "execution_count": 31,
   "id": "46b06a15-93d3-4072-8212-b640750f5ed3",
   "metadata": {
    "tags": []
   },
   "outputs": [
    {
     "data": {
      "text/html": [
       "<div>\n",
       "<style scoped>\n",
       "    .dataframe tbody tr th:only-of-type {\n",
       "        vertical-align: middle;\n",
       "    }\n",
       "\n",
       "    .dataframe tbody tr th {\n",
       "        vertical-align: top;\n",
       "    }\n",
       "\n",
       "    .dataframe thead th {\n",
       "        text-align: right;\n",
       "    }\n",
       "</style>\n",
       "<table border=\"1\" class=\"dataframe\">\n",
       "  <thead>\n",
       "    <tr style=\"text-align: right;\">\n",
       "      <th></th>\n",
       "      <th>date_of_download</th>\n",
       "      <th>software_package</th>\n",
       "      <th>country</th>\n",
       "      <th>score</th>\n",
       "    </tr>\n",
       "  </thead>\n",
       "  <tbody>\n",
       "    <tr>\n",
       "      <th>0</th>\n",
       "      <td>2016-01-14</td>\n",
       "      <td>Basic</td>\n",
       "      <td>Mexico</td>\n",
       "      <td>2</td>\n",
       "    </tr>\n",
       "    <tr>\n",
       "      <th>1</th>\n",
       "      <td>2016-01-14</td>\n",
       "      <td>Premium</td>\n",
       "      <td>Norway</td>\n",
       "      <td>7</td>\n",
       "    </tr>\n",
       "    <tr>\n",
       "      <th>2</th>\n",
       "      <td>2016-01-15</td>\n",
       "      <td>Premium</td>\n",
       "      <td>Norway</td>\n",
       "      <td>4</td>\n",
       "    </tr>\n",
       "    <tr>\n",
       "      <th>3</th>\n",
       "      <td>2016-01-29</td>\n",
       "      <td>Plus</td>\n",
       "      <td>Finland</td>\n",
       "      <td>2</td>\n",
       "    </tr>\n",
       "    <tr>\n",
       "      <th>4</th>\n",
       "      <td>2016-02-16</td>\n",
       "      <td>Premium</td>\n",
       "      <td>Nigeria</td>\n",
       "      <td>5</td>\n",
       "    </tr>\n",
       "    <tr>\n",
       "      <th>...</th>\n",
       "      <td>...</td>\n",
       "      <td>...</td>\n",
       "      <td>...</td>\n",
       "      <td>...</td>\n",
       "    </tr>\n",
       "    <tr>\n",
       "      <th>142</th>\n",
       "      <td>2020-08-31</td>\n",
       "      <td>Basic</td>\n",
       "      <td>Spain</td>\n",
       "      <td>7</td>\n",
       "    </tr>\n",
       "    <tr>\n",
       "      <th>143</th>\n",
       "      <td>2020-09-02</td>\n",
       "      <td>Plus</td>\n",
       "      <td>China</td>\n",
       "      <td>8</td>\n",
       "    </tr>\n",
       "    <tr>\n",
       "      <th>144</th>\n",
       "      <td>2020-09-14</td>\n",
       "      <td>Basic</td>\n",
       "      <td>Malaysia</td>\n",
       "      <td>4</td>\n",
       "    </tr>\n",
       "    <tr>\n",
       "      <th>145</th>\n",
       "      <td>2020-10-09</td>\n",
       "      <td>Basic</td>\n",
       "      <td>Thailand</td>\n",
       "      <td>2</td>\n",
       "    </tr>\n",
       "    <tr>\n",
       "      <th>146</th>\n",
       "      <td>2020-12-10</td>\n",
       "      <td>Basic</td>\n",
       "      <td>Iceland</td>\n",
       "      <td>8</td>\n",
       "    </tr>\n",
       "  </tbody>\n",
       "</table>\n",
       "<p>147 rows × 4 columns</p>\n",
       "</div>"
      ],
      "text/plain": [
       "    date_of_download software_package   country  score\n",
       "0         2016-01-14            Basic    Mexico      2\n",
       "1         2016-01-14          Premium    Norway      7\n",
       "2         2016-01-15          Premium    Norway      4\n",
       "3         2016-01-29             Plus   Finland      2\n",
       "4         2016-02-16          Premium   Nigeria      5\n",
       "..               ...              ...       ...    ...\n",
       "142       2020-08-31            Basic     Spain      7\n",
       "143       2020-09-02             Plus     China      8\n",
       "144       2020-09-14            Basic  Malaysia      4\n",
       "145       2020-10-09            Basic  Thailand      2\n",
       "146       2020-12-10            Basic   Iceland      8\n",
       "\n",
       "[147 rows x 4 columns]"
      ]
     },
     "execution_count": 31,
     "metadata": {},
     "output_type": "execute_result"
    }
   ],
   "source": [
    "# Agrupar por fecha de descarga y paquete de software y país\n",
    "merge_df.groupby(['date_of_download', 'software_package', 'country']) ['score'].sum().reset_index()"
   ]
  },
  {
   "cell_type": "markdown",
   "id": "202fccca-a73c-4303-bdb7-d53cb3af7823",
   "metadata": {},
   "source": [
    "### Cantidad total de descargas por país y tipo de software"
   ]
  },
  {
   "cell_type": "markdown",
   "id": "507dfe32-05f4-48e4-a75e-6cad528f711f",
   "metadata": {},
   "source": [
    "Creo una variable grouped con los datos del merge_df para agrupar y crear una pivot table que usaré para graficar"
   ]
  },
  {
   "cell_type": "code",
   "execution_count": 32,
   "id": "2887c506-4b3e-4782-8726-0762793feb90",
   "metadata": {},
   "outputs": [],
   "source": [
    "grouped = merge_df.groupby(['software_package', 'country'])['score'].sum().reset_index()"
   ]
  },
  {
   "cell_type": "code",
   "execution_count": 33,
   "id": "20049b0a-1273-4cb3-8aed-78d38a84e96d",
   "metadata": {},
   "outputs": [
    {
     "data": {
      "text/html": [
       "<div>\n",
       "<style scoped>\n",
       "    .dataframe tbody tr th:only-of-type {\n",
       "        vertical-align: middle;\n",
       "    }\n",
       "\n",
       "    .dataframe tbody tr th {\n",
       "        vertical-align: top;\n",
       "    }\n",
       "\n",
       "    .dataframe thead th {\n",
       "        text-align: right;\n",
       "    }\n",
       "</style>\n",
       "<table border=\"1\" class=\"dataframe\">\n",
       "  <thead>\n",
       "    <tr style=\"text-align: right;\">\n",
       "      <th></th>\n",
       "      <th>software_package</th>\n",
       "      <th>country</th>\n",
       "      <th>score</th>\n",
       "    </tr>\n",
       "  </thead>\n",
       "  <tbody>\n",
       "    <tr>\n",
       "      <th>0</th>\n",
       "      <td>Basic</td>\n",
       "      <td>Argentina</td>\n",
       "      <td>7</td>\n",
       "    </tr>\n",
       "    <tr>\n",
       "      <th>1</th>\n",
       "      <td>Basic</td>\n",
       "      <td>Bahamas</td>\n",
       "      <td>5</td>\n",
       "    </tr>\n",
       "    <tr>\n",
       "      <th>2</th>\n",
       "      <td>Basic</td>\n",
       "      <td>Belgium</td>\n",
       "      <td>18</td>\n",
       "    </tr>\n",
       "    <tr>\n",
       "      <th>3</th>\n",
       "      <td>Basic</td>\n",
       "      <td>Bermuda</td>\n",
       "      <td>18</td>\n",
       "    </tr>\n",
       "    <tr>\n",
       "      <th>4</th>\n",
       "      <td>Basic</td>\n",
       "      <td>Canada</td>\n",
       "      <td>7</td>\n",
       "    </tr>\n",
       "  </tbody>\n",
       "</table>\n",
       "</div>"
      ],
      "text/plain": [
       "  software_package    country  score\n",
       "0            Basic  Argentina      7\n",
       "1            Basic    Bahamas      5\n",
       "2            Basic    Belgium     18\n",
       "3            Basic    Bermuda     18\n",
       "4            Basic     Canada      7"
      ]
     },
     "execution_count": 33,
     "metadata": {},
     "output_type": "execute_result"
    }
   ],
   "source": [
    "grouped.head()"
   ]
  },
  {
   "cell_type": "code",
   "execution_count": 34,
   "id": "f670cf72-4d9f-4fdb-b274-47f9a0e4ce85",
   "metadata": {
    "tags": []
   },
   "outputs": [],
   "source": [
    "pivot_table = grouped.pivot(\n",
    "    index= 'country',\n",
    "    columns= 'software_package',\n",
    "    values= 'score')"
   ]
  },
  {
   "cell_type": "code",
   "execution_count": 35,
   "id": "fab2e36f-3436-4961-9e37-2585b3ea5bdf",
   "metadata": {
    "tags": []
   },
   "outputs": [
    {
     "data": {
      "text/html": [
       "<div>\n",
       "<style scoped>\n",
       "    .dataframe tbody tr th:only-of-type {\n",
       "        vertical-align: middle;\n",
       "    }\n",
       "\n",
       "    .dataframe tbody tr th {\n",
       "        vertical-align: top;\n",
       "    }\n",
       "\n",
       "    .dataframe thead th {\n",
       "        text-align: right;\n",
       "    }\n",
       "</style>\n",
       "<table border=\"1\" class=\"dataframe\">\n",
       "  <thead>\n",
       "    <tr style=\"text-align: right;\">\n",
       "      <th>software_package</th>\n",
       "      <th>Basic</th>\n",
       "      <th>Plus</th>\n",
       "      <th>Premium</th>\n",
       "    </tr>\n",
       "    <tr>\n",
       "      <th>country</th>\n",
       "      <th></th>\n",
       "      <th></th>\n",
       "      <th></th>\n",
       "    </tr>\n",
       "  </thead>\n",
       "  <tbody>\n",
       "    <tr>\n",
       "      <th>Argentina</th>\n",
       "      <td>7.0</td>\n",
       "      <td>NaN</td>\n",
       "      <td>NaN</td>\n",
       "    </tr>\n",
       "    <tr>\n",
       "      <th>Bahamas</th>\n",
       "      <td>5.0</td>\n",
       "      <td>NaN</td>\n",
       "      <td>17.0</td>\n",
       "    </tr>\n",
       "    <tr>\n",
       "      <th>Bangladesh</th>\n",
       "      <td>NaN</td>\n",
       "      <td>17.0</td>\n",
       "      <td>8.0</td>\n",
       "    </tr>\n",
       "    <tr>\n",
       "      <th>Belgium</th>\n",
       "      <td>18.0</td>\n",
       "      <td>22.0</td>\n",
       "      <td>7.0</td>\n",
       "    </tr>\n",
       "    <tr>\n",
       "      <th>Bermuda</th>\n",
       "      <td>18.0</td>\n",
       "      <td>NaN</td>\n",
       "      <td>NaN</td>\n",
       "    </tr>\n",
       "  </tbody>\n",
       "</table>\n",
       "</div>"
      ],
      "text/plain": [
       "software_package  Basic  Plus  Premium\n",
       "country                               \n",
       "Argentina           7.0   NaN      NaN\n",
       "Bahamas             5.0   NaN     17.0\n",
       "Bangladesh          NaN  17.0      8.0\n",
       "Belgium            18.0  22.0      7.0\n",
       "Bermuda            18.0   NaN      NaN"
      ]
     },
     "execution_count": 35,
     "metadata": {},
     "output_type": "execute_result"
    }
   ],
   "source": [
    "pivot_table.head()"
   ]
  },
  {
   "cell_type": "code",
   "execution_count": 36,
   "id": "ce40f15b-2202-4ce6-8f4e-afc39a74970e",
   "metadata": {
    "tags": []
   },
   "outputs": [
    {
     "data": {
      "image/png": "[encoded data removed]",
      "text/plain": [
       "<Figure size 640x480 with 1 Axes>"
      ]
     },
     "metadata": {},
     "output_type": "display_data"
    }
   ],
   "source": [
    "pivot_table.plot(kind='bar', stacked=True)\n",
    "\n",
    "# Configurar el título y los ejes del gráfico\n",
    "plt.title('Cantidad total de descargas por país y tipo de paquete desde 2016 - 2019')\n",
    "plt.xlabel('País')\n",
    "plt.ylabel('Cantidad de descargas')\n",
    "\n",
    "plt.show()"
   ]
  },
  {
   "cell_type": "markdown",
   "id": "0b1026d1-d479-474c-abfb-dd54d44adcff",
   "metadata": {
    "tags": []
   },
   "source": [
    "### Evolución año tras año de la descarga de los paquetes"
   ]
  },
  {
   "cell_type": "code",
   "execution_count": 39,
   "id": "5db45baf",
   "metadata": {},
   "outputs": [],
   "source": [
    "merge_df['year_of_download'] = merge_df['date_of_download'].apply(lambda x: x.year)\n"
   ]
  },
  {
   "cell_type": "code",
   "execution_count": 40,
   "id": "743b17d3-f4ba-438f-b983-975662f11825",
   "metadata": {
    "tags": []
   },
   "outputs": [
    {
     "data": {
      "text/html": [
       "<div>\n",
       "<style scoped>\n",
       "    .dataframe tbody tr th:only-of-type {\n",
       "        vertical-align: middle;\n",
       "    }\n",
       "\n",
       "    .dataframe tbody tr th {\n",
       "        vertical-align: top;\n",
       "    }\n",
       "\n",
       "    .dataframe thead th {\n",
       "        text-align: right;\n",
       "    }\n",
       "</style>\n",
       "<table border=\"1\" class=\"dataframe\">\n",
       "  <thead>\n",
       "    <tr style=\"text-align: right;\">\n",
       "      <th></th>\n",
       "      <th>username</th>\n",
       "      <th>last_name</th>\n",
       "      <th>first_name</th>\n",
       "      <th>date_of_download</th>\n",
       "      <th>software_package</th>\n",
       "      <th>country</th>\n",
       "      <th>score</th>\n",
       "      <th>year_of_download</th>\n",
       "    </tr>\n",
       "  </thead>\n",
       "  <tbody>\n",
       "    <tr>\n",
       "      <th>0</th>\n",
       "      <td>dittoafar45</td>\n",
       "      <td>Andersen</td>\n",
       "      <td>Leocadia</td>\n",
       "      <td>2016-03-04</td>\n",
       "      <td>Basic</td>\n",
       "      <td>France</td>\n",
       "      <td>3</td>\n",
       "      <td>2016</td>\n",
       "    </tr>\n",
       "    <tr>\n",
       "      <th>1</th>\n",
       "      <td>prowlingglistering253</td>\n",
       "      <td>Lucero</td>\n",
       "      <td>Chad</td>\n",
       "      <td>2016-03-07</td>\n",
       "      <td>Premium</td>\n",
       "      <td>France</td>\n",
       "      <td>5</td>\n",
       "      <td>2016</td>\n",
       "    </tr>\n",
       "    <tr>\n",
       "      <th>2</th>\n",
       "      <td>expectant2deranged</td>\n",
       "      <td>Randall</td>\n",
       "      <td>Stone</td>\n",
       "      <td>2016-04-06</td>\n",
       "      <td>Plus</td>\n",
       "      <td>Belgium</td>\n",
       "      <td>4</td>\n",
       "      <td>2016</td>\n",
       "    </tr>\n",
       "    <tr>\n",
       "      <th>3</th>\n",
       "      <td>sulphateplummer</td>\n",
       "      <td>Braun</td>\n",
       "      <td>Emelia</td>\n",
       "      <td>2016-04-08</td>\n",
       "      <td>Basic</td>\n",
       "      <td>Germany</td>\n",
       "      <td>9</td>\n",
       "      <td>2016</td>\n",
       "    </tr>\n",
       "    <tr>\n",
       "      <th>4</th>\n",
       "      <td>woatok</td>\n",
       "      <td>Velez</td>\n",
       "      <td>Ridley</td>\n",
       "      <td>2016-06-24</td>\n",
       "      <td>Basic</td>\n",
       "      <td>Portugal</td>\n",
       "      <td>7</td>\n",
       "      <td>2016</td>\n",
       "    </tr>\n",
       "  </tbody>\n",
       "</table>\n",
       "</div>"
      ],
      "text/plain": [
       "                username last_name first_name date_of_download   \n",
       "0            dittoafar45  Andersen   Leocadia       2016-03-04  \\\n",
       "1  prowlingglistering253    Lucero       Chad       2016-03-07   \n",
       "2     expectant2deranged   Randall      Stone       2016-04-06   \n",
       "3        sulphateplummer     Braun     Emelia       2016-04-08   \n",
       "4                 woatok     Velez     Ridley       2016-06-24   \n",
       "\n",
       "  software_package   country  score  year_of_download  \n",
       "0            Basic    France      3              2016  \n",
       "1          Premium    France      5              2016  \n",
       "2             Plus   Belgium      4              2016  \n",
       "3            Basic   Germany      9              2016  \n",
       "4            Basic  Portugal      7              2016  "
      ]
     },
     "execution_count": 40,
     "metadata": {},
     "output_type": "execute_result"
    }
   ],
   "source": [
    "merge_df.head()\n"
   ]
  },
  {
   "cell_type": "code",
   "execution_count": 41,
   "id": "c10b2ebe-1f50-4c62-9838-961aa7090169",
   "metadata": {
    "tags": []
   },
   "outputs": [
    {
     "data": {
      "text/html": [
       "<div>\n",
       "<style scoped>\n",
       "    .dataframe tbody tr th:only-of-type {\n",
       "        vertical-align: middle;\n",
       "    }\n",
       "\n",
       "    .dataframe tbody tr th {\n",
       "        vertical-align: top;\n",
       "    }\n",
       "\n",
       "    .dataframe thead th {\n",
       "        text-align: right;\n",
       "    }\n",
       "</style>\n",
       "<table border=\"1\" class=\"dataframe\">\n",
       "  <thead>\n",
       "    <tr style=\"text-align: right;\">\n",
       "      <th></th>\n",
       "      <th>year_of_download</th>\n",
       "      <th>software_package</th>\n",
       "      <th>score</th>\n",
       "    </tr>\n",
       "  </thead>\n",
       "  <tbody>\n",
       "    <tr>\n",
       "      <th>0</th>\n",
       "      <td>2016</td>\n",
       "      <td>Basic</td>\n",
       "      <td>90</td>\n",
       "    </tr>\n",
       "    <tr>\n",
       "      <th>1</th>\n",
       "      <td>2016</td>\n",
       "      <td>Plus</td>\n",
       "      <td>50</td>\n",
       "    </tr>\n",
       "    <tr>\n",
       "      <th>2</th>\n",
       "      <td>2016</td>\n",
       "      <td>Premium</td>\n",
       "      <td>42</td>\n",
       "    </tr>\n",
       "    <tr>\n",
       "      <th>3</th>\n",
       "      <td>2017</td>\n",
       "      <td>Basic</td>\n",
       "      <td>49</td>\n",
       "    </tr>\n",
       "    <tr>\n",
       "      <th>4</th>\n",
       "      <td>2017</td>\n",
       "      <td>Plus</td>\n",
       "      <td>76</td>\n",
       "    </tr>\n",
       "  </tbody>\n",
       "</table>\n",
       "</div>"
      ],
      "text/plain": [
       "   year_of_download software_package  score\n",
       "0              2016            Basic     90\n",
       "1              2016             Plus     50\n",
       "2              2016          Premium     42\n",
       "3              2017            Basic     49\n",
       "4              2017             Plus     76"
      ]
     },
     "execution_count": 41,
     "metadata": {},
     "output_type": "execute_result"
    }
   ],
   "source": [
    "date_download = merge_df.groupby(['year_of_download', 'software_package' ]).agg({ 'score': 'sum'}).reset_index()\n",
    "date_download.head()"
   ]
  },
  {
   "cell_type": "code",
   "execution_count": 42,
   "id": "83a46423-19d2-42ab-8dcc-ac13eb0a69c9",
   "metadata": {},
   "outputs": [
    {
     "data": {
      "text/html": [
       "<div>\n",
       "<style scoped>\n",
       "    .dataframe tbody tr th:only-of-type {\n",
       "        vertical-align: middle;\n",
       "    }\n",
       "\n",
       "    .dataframe tbody tr th {\n",
       "        vertical-align: top;\n",
       "    }\n",
       "\n",
       "    .dataframe thead th {\n",
       "        text-align: right;\n",
       "    }\n",
       "</style>\n",
       "<table border=\"1\" class=\"dataframe\">\n",
       "  <thead>\n",
       "    <tr style=\"text-align: right;\">\n",
       "      <th>software_package</th>\n",
       "      <th>Basic</th>\n",
       "      <th>Plus</th>\n",
       "      <th>Premium</th>\n",
       "    </tr>\n",
       "    <tr>\n",
       "      <th>year_of_download</th>\n",
       "      <th></th>\n",
       "      <th></th>\n",
       "      <th></th>\n",
       "    </tr>\n",
       "  </thead>\n",
       "  <tbody>\n",
       "    <tr>\n",
       "      <th>2016</th>\n",
       "      <td>90</td>\n",
       "      <td>50</td>\n",
       "      <td>42</td>\n",
       "    </tr>\n",
       "    <tr>\n",
       "      <th>2017</th>\n",
       "      <td>49</td>\n",
       "      <td>76</td>\n",
       "      <td>71</td>\n",
       "    </tr>\n",
       "    <tr>\n",
       "      <th>2018</th>\n",
       "      <td>58</td>\n",
       "      <td>62</td>\n",
       "      <td>41</td>\n",
       "    </tr>\n",
       "    <tr>\n",
       "      <th>2019</th>\n",
       "      <td>100</td>\n",
       "      <td>30</td>\n",
       "      <td>40</td>\n",
       "    </tr>\n",
       "    <tr>\n",
       "      <th>2020</th>\n",
       "      <td>37</td>\n",
       "      <td>70</td>\n",
       "      <td>16</td>\n",
       "    </tr>\n",
       "  </tbody>\n",
       "</table>\n",
       "</div>"
      ],
      "text/plain": [
       "software_package  Basic  Plus  Premium\n",
       "year_of_download                      \n",
       "2016                 90    50       42\n",
       "2017                 49    76       71\n",
       "2018                 58    62       41\n",
       "2019                100    30       40\n",
       "2020                 37    70       16"
      ]
     },
     "execution_count": 42,
     "metadata": {},
     "output_type": "execute_result"
    }
   ],
   "source": [
    "pivot_date = date_download.pivot(\n",
    "    index = 'year_of_download',\n",
    "    columns = 'software_package',\n",
    "    values = 'score'\n",
    ")\n",
    "pivot_date.head()"
   ]
  },
  {
   "cell_type": "code",
   "execution_count": 43,
   "id": "8e82bbaa-4563-4848-86f6-6a2fcf623377",
   "metadata": {
    "tags": []
   },
   "outputs": [
    {
     "data": {
      "image/png": "[encoded data removed]",
      "text/plain": [
       "<Figure size 640x480 with 1 Axes>"
      ]
     },
     "metadata": {},
     "output_type": "display_data"
    }
   ],
   "source": [
    "pivot_date.plot(kind='bar')\n",
    "\n",
    "# Configurar el título y los ejes del gráfico\n",
    "plt.title('Evolución por años de la descarga de los paquetes')\n",
    "plt.xlabel('año')\n",
    "plt.ylabel('Cantidad de descargas')\n",
    "\n",
    "plt.show()"
   ]
  },
  {
   "cell_type": "markdown",
   "id": "79fe49d6-56da-48ed-9981-382ea49e08cd",
   "metadata": {},
   "source": [
    "### Evolución año tras año de la descarga de paquetes por paises"
   ]
  },
  {
   "cell_type": "code",
   "execution_count": 45,
   "id": "5ab9d5c4-55b6-4123-a9f6-ca1cb1ec6f80",
   "metadata": {},
   "outputs": [
    {
     "data": {
      "text/html": [
       "<div>\n",
       "<style scoped>\n",
       "    .dataframe tbody tr th:only-of-type {\n",
       "        vertical-align: middle;\n",
       "    }\n",
       "\n",
       "    .dataframe tbody tr th {\n",
       "        vertical-align: top;\n",
       "    }\n",
       "\n",
       "    .dataframe thead th {\n",
       "        text-align: right;\n",
       "    }\n",
       "</style>\n",
       "<table border=\"1\" class=\"dataframe\">\n",
       "  <thead>\n",
       "    <tr style=\"text-align: right;\">\n",
       "      <th></th>\n",
       "      <th>username</th>\n",
       "      <th>last_name</th>\n",
       "      <th>first_name</th>\n",
       "      <th>date_of_download</th>\n",
       "      <th>software_package</th>\n",
       "      <th>country</th>\n",
       "      <th>score</th>\n",
       "      <th>year_of_download</th>\n",
       "    </tr>\n",
       "  </thead>\n",
       "  <tbody>\n",
       "    <tr>\n",
       "      <th>0</th>\n",
       "      <td>dittoafar45</td>\n",
       "      <td>Andersen</td>\n",
       "      <td>Leocadia</td>\n",
       "      <td>2016-03-04</td>\n",
       "      <td>Basic</td>\n",
       "      <td>France</td>\n",
       "      <td>3</td>\n",
       "      <td>2016</td>\n",
       "    </tr>\n",
       "    <tr>\n",
       "      <th>1</th>\n",
       "      <td>prowlingglistering253</td>\n",
       "      <td>Lucero</td>\n",
       "      <td>Chad</td>\n",
       "      <td>2016-03-07</td>\n",
       "      <td>Premium</td>\n",
       "      <td>France</td>\n",
       "      <td>5</td>\n",
       "      <td>2016</td>\n",
       "    </tr>\n",
       "    <tr>\n",
       "      <th>2</th>\n",
       "      <td>expectant2deranged</td>\n",
       "      <td>Randall</td>\n",
       "      <td>Stone</td>\n",
       "      <td>2016-04-06</td>\n",
       "      <td>Plus</td>\n",
       "      <td>Belgium</td>\n",
       "      <td>4</td>\n",
       "      <td>2016</td>\n",
       "    </tr>\n",
       "    <tr>\n",
       "      <th>3</th>\n",
       "      <td>sulphateplummer</td>\n",
       "      <td>Braun</td>\n",
       "      <td>Emelia</td>\n",
       "      <td>2016-04-08</td>\n",
       "      <td>Basic</td>\n",
       "      <td>Germany</td>\n",
       "      <td>9</td>\n",
       "      <td>2016</td>\n",
       "    </tr>\n",
       "    <tr>\n",
       "      <th>4</th>\n",
       "      <td>woatok</td>\n",
       "      <td>Velez</td>\n",
       "      <td>Ridley</td>\n",
       "      <td>2016-06-24</td>\n",
       "      <td>Basic</td>\n",
       "      <td>Portugal</td>\n",
       "      <td>7</td>\n",
       "      <td>2016</td>\n",
       "    </tr>\n",
       "  </tbody>\n",
       "</table>\n",
       "</div>"
      ],
      "text/plain": [
       "                username last_name first_name date_of_download   \n",
       "0            dittoafar45  Andersen   Leocadia       2016-03-04  \\\n",
       "1  prowlingglistering253    Lucero       Chad       2016-03-07   \n",
       "2     expectant2deranged   Randall      Stone       2016-04-06   \n",
       "3        sulphateplummer     Braun     Emelia       2016-04-08   \n",
       "4                 woatok     Velez     Ridley       2016-06-24   \n",
       "\n",
       "  software_package   country  score  year_of_download  \n",
       "0            Basic    France      3              2016  \n",
       "1          Premium    France      5              2016  \n",
       "2             Plus   Belgium      4              2016  \n",
       "3            Basic   Germany      9              2016  \n",
       "4            Basic  Portugal      7              2016  "
      ]
     },
     "execution_count": 45,
     "metadata": {},
     "output_type": "execute_result"
    }
   ],
   "source": [
    "country_year = merge_df\n",
    "country_year.head()"
   ]
  },
  {
   "cell_type": "code",
   "execution_count": 53,
   "id": "45831d2d-55a6-47ac-b30f-4775ae8d06c4",
   "metadata": {},
   "outputs": [],
   "source": [
    "merge_df.to_csv('archivo.csv', index=False)"
   ]
  }
 ],
 "metadata": {
  "kernelspec": {
   "display_name": "AD_humai",
   "language": "python",
   "name": "python3"
  },
  "language_info": {
   "codemirror_mode": {
    "name": "ipython",
    "version": 3
   },
   "file_extension": ".py",
   "mimetype": "text/x-python",
   "name": "python",
   "nbconvert_exporter": "python",
   "pygments_lexer": "ipython3",
   "version": "3.11.2"
  },
  "vscode": {
   "interpreter": {
    "hash": "6abcded53ad0074b203416f9754a7f4875a19c973d3ac58abe0b7b827ebe4bc5"
   }
  }
 },
 "nbformat": 4,
 "nbformat_minor": 5
}
